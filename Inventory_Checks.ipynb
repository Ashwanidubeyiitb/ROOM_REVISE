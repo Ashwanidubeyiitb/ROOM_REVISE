{
  "cells": [
    {
      "cell_type": "code",
      "execution_count": 6,
      "metadata": {
        "id": "3E63VqZ4P4xl"
      },
      "outputs": [],
      "source": [
        "from ultralytics import YOLO\n",
        "from PIL import Image"
      ]
    },
    {
      "cell_type": "code",
      "execution_count": 7,
      "metadata": {
        "colab": {
          "base_uri": "https://localhost:8080/"
        },
        "id": "gWN7PaPRP--i",
        "outputId": "55cb40ab-c545-4e5d-c057-a962ad7f032d"
      },
      "outputs": [],
      "source": [
        "model = YOLO(\"yolov8m.pt\")"
      ]
    },
    {
      "cell_type": "code",
      "execution_count": 8,
      "metadata": {
        "colab": {
          "base_uri": "https://localhost:8080/"
        },
        "id": "h4wohF7FQDx2",
        "outputId": "8396d575-bc0a-4267-b279-96c20e291df0"
      },
      "outputs": [
        {
          "name": "stdout",
          "output_type": "stream",
          "text": [
            "\n",
            "image 1/1 C:\\Users\\Ashwani\\Downloads\\fastapi\\Table\\Table\\Train\\Neat\\Image_82.jpg: 448x640 2 chairs, 1 dining table, 2 teddy bears, 308.3ms\n",
            "Speed: 4.0ms preprocess, 308.3ms inference, 2.0ms postprocess per image at shape (1, 3, 448, 640)\n"
          ]
        }
      ],
      "source": [
        "results = model.predict(\"C:\\\\Users\\\\Ashwani\\\\Downloads\\\\fastapi\\\\Table\\\\Table\\\\Train\\\\Neat\\\\Image_82.jpg\")"
      ]
    },
    {
      "cell_type": "code",
      "execution_count": 9,
      "metadata": {
        "id": "g147vya8QtSr"
      },
      "outputs": [],
      "source": [
        "result = results[0]"
      ]
    },
    {
      "cell_type": "code",
      "execution_count": 10,
      "metadata": {
        "colab": {
          "base_uri": "https://localhost:8080/"
        },
        "id": "UwsyFBBSQ0oQ",
        "outputId": "2feb86da-ee8c-4610-9187-01552d35f79f"
      },
      "outputs": [
        {
          "data": {
            "text/plain": [
              "5"
            ]
          },
          "execution_count": 10,
          "metadata": {},
          "output_type": "execute_result"
        }
      ],
      "source": [
        "len(result.boxes)"
      ]
    },
    {
      "cell_type": "code",
      "execution_count": 11,
      "metadata": {
        "colab": {
          "base_uri": "https://localhost:8080/"
        },
        "id": "9hM1poOBQ4xJ",
        "outputId": "cbff4477-d573-415c-c953-de60cf0267f0"
      },
      "outputs": [
        {
          "name": "stdout",
          "output_type": "stream",
          "text": [
            "Object Type  56.0\n",
            "Object Type  56.0\n",
            "Object Type  60.0\n",
            "Object Type  77.0\n",
            "Object Type  77.0\n"
          ]
        }
      ],
      "source": [
        "bottle=wine_glass=cup=fork=knife=spoon=bowl=hair_drier=toothbrush=0\n",
        "\n",
        "for box in result.boxes:\n",
        "  label=box.cls[0].item()\n",
        "  cords=[round(x) for x in box.xyxy[0].tolist()]\n",
        "  prob=box.conf[0].item()\n",
        "  print(\"Object Type \",label)\n",
        "  if label==39:\n",
        "    bottle+=1\n",
        "  if label==40:\n",
        "    wine_glass+=1\n",
        "  if label==41:\n",
        "    cup+=1\n",
        "  if label==42:\n",
        "    fork+=1\n",
        "  if label==43:\n",
        "    knife+=1\n",
        "  if label==44:\n",
        "    spoon+=1\n",
        "  if label==45:\n",
        "    bowl+=1\n",
        "\n",
        "  if label==78:\n",
        "    hair_drier+=1\n",
        "  if label==79:\n",
        "    toothbrush+=1\n",
        "\n",
        "\n",
        "\n",
        "\n",
        "\n",
        "\n",
        "\n",
        "\n",
        "\n",
        "\n"
      ]
    },
    {
      "cell_type": "code",
      "execution_count": null,
      "metadata": {},
      "outputs": [
        {
          "name": "stdout",
          "output_type": "stream",
          "text": [
            "WARNING:tensorflow:From C:\\Users\\91897\\anaconda\\Lib\\site-packages\\keras\\src\\losses.py:2976: The name tf.losses.sparse_softmax_cross_entropy is deprecated. Please use tf.compat.v1.losses.sparse_softmax_cross_entropy instead.\n",
            "\n"
          ]
        }
      ],
      "source": [
        "import tensorflow as tf\n",
        "from tensorflow.keras.models import Sequential\n",
        "from tensorflow.keras.layers import Conv2D, MaxPooling2D, Flatten, Dense\n",
        "from tensorflow.keras.preprocessing.image import ImageDataGenerator"
      ]
    },
    {
      "cell_type": "code",
      "execution_count": null,
      "metadata": {},
      "outputs": [
        {
          "name": "stdout",
          "output_type": "stream",
          "text": [
            "Found 84 images belonging to 2 classes.\n",
            "Found 56 images belonging to 2 classes.\n",
            "Found 12 images belonging to 2 classes.\n",
            "Epoch 1/10\n",
            "WARNING:tensorflow:From C:\\Users\\91897\\anaconda\\Lib\\site-packages\\keras\\src\\utils\\tf_utils.py:492: The name tf.ragged.RaggedTensorValue is deprecated. Please use tf.compat.v1.ragged.RaggedTensorValue instead.\n",
            "\n",
            "WARNING:tensorflow:From C:\\Users\\91897\\anaconda\\Lib\\site-packages\\keras\\src\\engine\\base_layer_utils.py:384: The name tf.executing_eagerly_outside_functions is deprecated. Please use tf.compat.v1.executing_eagerly_outside_functions instead.\n",
            "\n",
            "3/3 [==============================] - 20s 8s/step - loss: 2.7985 - accuracy: 0.5000 - val_loss: 1.0071 - val_accuracy: 0.5357\n",
            "Epoch 2/10\n",
            "3/3 [==============================] - 12s 5s/step - loss: 0.8433 - accuracy: 0.5238 - val_loss: 0.8545 - val_accuracy: 0.4643\n",
            "Epoch 3/10\n",
            "3/3 [==============================] - 12s 5s/step - loss: 0.7371 - accuracy: 0.4762 - val_loss: 0.6888 - val_accuracy: 0.5179\n",
            "Epoch 4/10\n",
            "3/3 [==============================] - 12s 5s/step - loss: 0.6728 - accuracy: 0.6071 - val_loss: 0.6880 - val_accuracy: 0.4821\n",
            "Epoch 5/10\n",
            "3/3 [==============================] - 12s 5s/step - loss: 0.6272 - accuracy: 0.7143 - val_loss: 0.7297 - val_accuracy: 0.4643\n",
            "Epoch 6/10\n",
            "3/3 [==============================] - 11s 4s/step - loss: 0.6338 - accuracy: 0.6190 - val_loss: 0.7192 - val_accuracy: 0.4821\n",
            "Epoch 7/10\n",
            "3/3 [==============================] - 12s 5s/step - loss: 0.5206 - accuracy: 0.6667 - val_loss: 0.7116 - val_accuracy: 0.4821\n",
            "Epoch 8/10\n",
            "3/3 [==============================] - 12s 5s/step - loss: 0.5097 - accuracy: 0.8452 - val_loss: 0.8445 - val_accuracy: 0.5179\n",
            "Epoch 9/10\n",
            "3/3 [==============================] - 12s 5s/step - loss: 0.4185 - accuracy: 0.8452 - val_loss: 0.8281 - val_accuracy: 0.5000\n",
            "Epoch 10/10\n",
            "3/3 [==============================] - 11s 5s/step - loss: 0.3066 - accuracy: 0.9167 - val_loss: 1.6063 - val_accuracy: 0.4643\n"
          ]
        },
        {
          "name": "stderr",
          "output_type": "stream",
          "text": [
            "C:\\Users\\91897\\anaconda\\Lib\\site-packages\\keras\\src\\engine\\training.py:3103: UserWarning: You are saving your model as an HDF5 file via `model.save()`. This file format is considered legacy. We recommend using instead the native Keras format, e.g. `model.save('my_model.keras')`.\n",
            "  saving_api.save_model(\n"
          ]
        }
      ],
      "source": [
        "# Create a Sequential model\n",
        "model = Sequential()\n",
        "\n",
        "# Add Convolutional layers\n",
        "model.add(Conv2D(32, (3, 3), activation='relu', input_shape=(224, 224, 3)))\n",
        "model.add(MaxPooling2D((2, 2)))\n",
        "\n",
        "model.add(Conv2D(64, (3, 3), activation='relu'))\n",
        "model.add(MaxPooling2D((2, 2)))\n",
        "\n",
        "model.add(Conv2D(128, (3, 3), activation='relu'))\n",
        "model.add(MaxPooling2D((2, 2)))\n",
        "\n",
        "# Flatten the output and add Dense layers\n",
        "model.add(Flatten())\n",
        "model.add(Dense(128, activation='relu'))\n",
        "model.add(Dense(1, activation='sigmoid'))  # Binary classification, use 'sigmoid' activation\n",
        "\n",
        "# Compile the model\n",
        "model.compile(optimizer='adam', loss='binary_crossentropy', metrics=['accuracy'])\n",
        "\n",
        "# Data augmentation for training set\n",
        "train_datagen = ImageDataGenerator(rescale=1./255,\n",
        "                                   shear_range=0.2,\n",
        "                                   zoom_range=0.2,\n",
        "                                   horizontal_flip=True)\n",
        "\n",
        "# Rescale the validation and test datasets\n",
        "validation_datagen = ImageDataGenerator(rescale=1./255)\n",
        "test_datagen = ImageDataGenerator(rescale=1./255)\n",
        "\n",
        "# Specify the path to your datasets\n",
        "train_path = 'D:\\\\loc\\\\Beds\\\\Train'\n",
        "validation_path = 'D:\\\\loc\\\\Beds\\\\Validation'\n",
        "test_path = 'D:\\\\loc\\\\Beds\\\\Test'\n",
        "\n",
        "# Create generators for train, validation, and test datasets\n",
        "train_generator = train_datagen.flow_from_directory(\n",
        "    train_path,\n",
        "    target_size=(224, 224),\n",
        "    batch_size=32,\n",
        "    class_mode='binary'  # Binary classification\n",
        ")\n",
        "\n",
        "validation_generator = validation_datagen.flow_from_directory(\n",
        "    validation_path,\n",
        "    target_size=(224, 224),\n",
        "    batch_size=32,\n",
        "    class_mode='binary'\n",
        ")\n",
        "\n",
        "test_generator = test_datagen.flow_from_directory(\n",
        "    test_path,\n",
        "    target_size=(224, 224),\n",
        "    batch_size=32,\n",
        "    class_mode='binary'\n",
        ")\n",
        "\n",
        "# Train the model\n",
        "model.fit(\n",
        "    train_generator,\n",
        "    epochs=10,  # Adjust as needed\n",
        "    validation_data=validation_generator\n",
        ")\n",
        "\n",
        "# Save the model for later use\n",
        "model.save('clean_messy_model.h5')\n"
      ]
    },
    {
      "cell_type": "code",
      "execution_count": null,
      "metadata": {},
      "outputs": [],
      "source": []
    },
    {
      "cell_type": "code",
      "execution_count": 12,
      "metadata": {},
      "outputs": [],
      "source": [
        "model.save(\"yolov5_model.h5\")"
      ]
    },
    {
      "cell_type": "code",
      "execution_count": 13,
      "metadata": {
        "colab": {
          "base_uri": "https://localhost:8080/"
        },
        "id": "gH8q3QBOzJPv",
        "outputId": "af41aade-d461-41ea-e9fd-0c29e48cbd45"
      },
      "outputs": [],
      "source": [
        "if(bottle!=0):\n",
        "  print(\"Number of Bottles:\" ,bottle)\n",
        "if(wine_glass!=0):\n",
        "  print(\"Number of Wine_Glasses:\" ,wine_glass)\n",
        "\n",
        "if(cup!=0):\n",
        "  print(\"Number of Cups:\" ,cup)\n",
        "if(fork!=0):\n",
        "  print(\"Number of Forks:\" ,fork)\n",
        "if(knife!=0):\n",
        "  print(\"Number of Knives:\" ,knife)\n",
        "if(spoon!=0):\n",
        "  print(\"Number of Spoons:\" ,spoon)\n",
        "if(bowl!=0):\n",
        "  print(\"Number of Bowls:\" ,bowl)\n",
        "if(hair_drier!=0):\n",
        "  print(\"Number of Hair Driers:\" ,hair_drier)\n",
        "if(toothbrush!=0):\n",
        "  print(\"Number of Tooth Brushes:\" ,toothbrush)\n",
        "\n",
        "\n"
      ]
    }
  ],
  "metadata": {
    "colab": {
      "provenance": [],
      "toc_visible": true
    },
    "kernelspec": {
      "display_name": "Python 3",
      "name": "python3"
    },
    "language_info": {
      "codemirror_mode": {
        "name": "ipython",
        "version": 3
      },
      "file_extension": ".py",
      "mimetype": "text/x-python",
      "name": "python",
      "nbconvert_exporter": "python",
      "pygments_lexer": "ipython3",
      "version": "3.11.3"
    }
  },
  "nbformat": 4,
  "nbformat_minor": 0
}
